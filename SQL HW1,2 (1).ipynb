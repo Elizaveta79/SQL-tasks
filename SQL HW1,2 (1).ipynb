{
 "cells": [
  {
   "cell_type": "code",
   "execution_count": 1,
   "id": "9e48076f",
   "metadata": {},
   "outputs": [
    {
     "name": "stdout",
     "output_type": "stream",
     "text": [
      "Requirement already satisfied: psycopg2 in c:\\users\\user\\anaconda3\\lib\\site-packages (2.9.4)\n",
      "Note: you may need to restart the kernel to use updated packages.\n"
     ]
    }
   ],
   "source": [
    "%pip install psycopg2"
   ]
  },
  {
   "cell_type": "code",
   "execution_count": 2,
   "id": "3727aa44",
   "metadata": {},
   "outputs": [],
   "source": [
    "import psycopg2\n",
    "from psycopg2 import Error\n",
    "from psycopg2.extras import NamedTupleCursor\n",
    "\n",
    "def execute_query(query, fetch_result=False):\n",
    "    try:\n",
    "        connection = psycopg2.connect(\n",
    "                        database=\"postgres\", \n",
    "                        user='postgres',\n",
    "                        password='123', \n",
    "                        host='localhost', \n",
    "                        port='5432'\n",
    "                    )\n",
    "        \n",
    "        connection.autocommit = True\n",
    "        cursor = connection.cursor(cursor_factory=NamedTupleCursor)\n",
    "        cursor.execute(query)\n",
    "        if fetch_result:\n",
    "            return cursor.fetchall()\n",
    "    except (Exception, Error) as error:\n",
    "        print(\"Error while connecting to PostgreSQL\", error)\n",
    "    finally:\n",
    "        if (connection):\n",
    "            cursor.close()\n",
    "            connection.close()"
   ]
  },
  {
   "cell_type": "code",
   "execution_count": 3,
   "id": "0d54287a",
   "metadata": {},
   "outputs": [
    {
     "name": "stdout",
     "output_type": "stream",
     "text": [
      "DROP TABLE IF EXISTS users;\n",
      "DROP TABLE IF EXISTS likes;\n",
      "CREATE TABLE users (\n",
      "                         user_id    INT       NOT NULL,\n",
      "                         name    TEXT       NOT NULL,\n",
      "                         created    TIMESTAMP NOT NULL\n",
      "                );\n",
      "                \n",
      "CREATE TABLE likes (\n",
      "                         user_id    INT       NOT NULL,\n",
      "                         created    TIMESTAMP NOT NULL,\n",
      "                         user_id_give    INT       NOT NULL\n",
      "                  );\n",
      "                \n"
     ]
    }
   ],
   "source": [
    "import psycopg2 as pg_driver\n",
    "\n",
    "db = pg_driver.connect(\n",
    "                        database=\"postgres\", \n",
    "                        user='postgres',\n",
    "                        password='123', \n",
    "                        host='localhost', \n",
    "                        port='5432'\n",
    "                    )\n",
    "\n",
    "\n",
    "\n",
    "def execute_queries(db, sql_commands):\n",
    "    db.autocommit = True\n",
    "    with db.cursor() as cursor:\n",
    "        for sql_command in sql_commands:\n",
    "            print(sql_command)\n",
    "            cursor.execute(sql_command)\n",
    "\n",
    "\n",
    "sql_commands = [\"DROP TABLE IF EXISTS users;\",\n",
    "                \"DROP TABLE IF EXISTS likes;\",\n",
    "                \"\"\"CREATE TABLE users (\n",
    "                         user_id    INT       NOT NULL,\n",
    "                         name    TEXT       NOT NULL,\n",
    "                         created    TIMESTAMP NOT NULL\n",
    "                );\n",
    "                \"\"\",\n",
    "                \"\"\"CREATE TABLE likes (\n",
    "                         user_id    INT       NOT NULL,\n",
    "                         created    TIMESTAMP NOT NULL,\n",
    "                         user_id_give    INT       NOT NULL\n",
    "                  );\n",
    "                \"\"\"]\n",
    "\n",
    "\n",
    "execute_queries(db, sql_commands)"
   ]
  },
  {
   "cell_type": "code",
   "execution_count": 4,
   "id": "da35114e",
   "metadata": {},
   "outputs": [
    {
     "name": "stdout",
     "output_type": "stream",
     "text": [
      "[Record(count=0)]\n",
      "[Record(count=0)]\n"
     ]
    }
   ],
   "source": [
    "import psycopg2\n",
    "from psycopg2 import Error\n",
    "from psycopg2.extras import NamedTupleCursor\n",
    "\n",
    "def execute_query(query, fetch_result=False):\n",
    "    try:\n",
    "        connection = pg_driver.connect(\n",
    "                        database=\"postgres\", \n",
    "                        user='postgres',\n",
    "                        password='123', \n",
    "                        host='localhost', \n",
    "                        port='5432'\n",
    "                    );\n",
    "        \n",
    "        connection.autocommit = True\n",
    "        cursor = connection.cursor(cursor_factory=NamedTupleCursor)\n",
    "        cursor.execute(query)\n",
    "        if fetch_result:\n",
    "            return cursor.fetchall()\n",
    "    except (Exception, Error) as error:\n",
    "        print(\"Error while connecting to PostgreSQL\", error)\n",
    "    finally:\n",
    "        if (connection):\n",
    "            cursor.close()\n",
    "            connection.close()\n",
    "row_count_hist = execute_query(\"select count(*) from users\", fetch_result=True)\n",
    "row_count_payment = execute_query(\"select count(*) from likes\", fetch_result=True)\n",
    "\n",
    "print(row_count_hist)\n",
    "print(row_count_payment)"
   ]
  },
  {
   "cell_type": "code",
   "execution_count": 5,
   "id": "b564c69f",
   "metadata": {},
   "outputs": [
    {
     "name": "stdout",
     "output_type": "stream",
     "text": [
      "0 Record(user_id=1, name='Mark')\n",
      "1 Record(user_id=1, name='Mark')\n",
      "2 Record(user_id=1, name='Mark')\n"
     ]
    }
   ],
   "source": [
    "query = \"\"\" INSERT INTO users (user_id, created, name) \n",
    "            VALUES \n",
    "                 (1, to_timestamp('16-05-2021 15:36:38', 'dd-mm-yyyy hh24:mi:ss'), 'Mark'),\n",
    "                 (2, to_timestamp('16-06-2018 14:36:38', 'dd-mm-yyyy hh24:mi:ss'), 'Dima'),\n",
    "                 (3, to_timestamp('16-07-2020 09:36:38', 'dd-mm-yyyy hh24:mi:ss'), 'Phill'),\n",
    "                 (4, to_timestamp('16-06-2018 15:36:38', 'dd-mm-yyyy hh24:mi:ss'), 'Viktor'),\n",
    "                 (5, to_timestamp('16-06-2018 16:36:38', 'dd-mm-yyyy hh24:mi:ss'), 'Ivan')\n",
    "                 \n",
    "            \n",
    "        \"\"\"\n",
    "\n",
    "execute_query(query)\n",
    "\n",
    "query = \"\"\" INSERT INTO likes (user_id, created, user_id_give) \n",
    "            VALUES \n",
    "                 (1, to_timestamp('16-05-2021 15:36:38', 'dd-mm-yyyy hh24:mi:ss'), 5),\n",
    "                 (2, to_timestamp('16-06-2018 14:36:38', 'dd-mm-yyyy hh24:mi:ss'), 4),\n",
    "                 (3, to_timestamp('16-07-2020 09:36:38', 'dd-mm-yyyy hh24:mi:ss'), 3),\n",
    "                 (4, to_timestamp('16-06-2018 15:36:38', 'dd-mm-yyyy hh24:mi:ss'), 2),\n",
    "                 (5, to_timestamp('16-06-2018 16:36:38', 'dd-mm-yyyy hh24:mi:ss'), 1)\n",
    "                 \n",
    "            \n",
    "        \"\"\"\n",
    "\n",
    "execute_query(query)\n",
    "\n",
    "query = \"\"\" INSERT INTO likes (user_id, created, user_id_give) \n",
    "            VALUES \n",
    "                 (1, to_timestamp('16-05-2021 15:36:38', 'dd-mm-yyyy hh24:mi:ss'), 4),\n",
    "                 (1, to_timestamp('16-06-2018 14:36:38', 'dd-mm-yyyy hh24:mi:ss'), 5),\n",
    "                 (2, to_timestamp('16-06-2018 14:36:38', 'dd-mm-yyyy hh24:mi:ss'), 5)\n",
    "                 \n",
    "\n",
    "                 \n",
    "            \n",
    "        \"\"\"\n",
    "\n",
    "execute_query(query)\n",
    "\n",
    "query = \"\"\"select l.user_id, u.name \n",
    "           from likes l\n",
    "           left join users u\n",
    "           on l.user_id=u.user_id\n",
    "           where l.user_id=1 \n",
    "           \n",
    "        \"\"\"\n",
    "all_rows = execute_query(query, fetch_result=True)\n",
    "for row, value in enumerate(all_rows):\n",
    "    print(row, value)"
   ]
  },
  {
   "cell_type": "code",
   "execution_count": 6,
   "id": "470b6e31",
   "metadata": {},
   "outputs": [
    {
     "name": "stdout",
     "output_type": "stream",
     "text": [
      "0 Record(from_id=5, from_name='Ivan', to_id=1, to_name='Mark')\n",
      "1 Record(from_id=4, from_name='Viktor', to_id=2, to_name='Dima')\n",
      "2 Record(from_id=3, from_name='Phill', to_id=3, to_name='Phill')\n",
      "3 Record(from_id=2, from_name='Dima', to_id=4, to_name='Viktor')\n",
      "4 Record(from_id=1, from_name='Mark', to_id=4, to_name='Viktor')\n",
      "5 Record(from_id=1, from_name='Mark', to_id=5, to_name='Ivan')\n",
      "6 Record(from_id=2, from_name='Dima', to_id=5, to_name='Ivan')\n",
      "7 Record(from_id=1, from_name='Mark', to_id=5, to_name='Ivan')\n"
     ]
    }
   ],
   "source": [
    "query = \"\"\"select\n",
    "                l.user_id as from_id,\n",
    "                u.name as from_name,\n",
    "                l.user_id_give as to_id,\n",
    "                us.name as to_name\n",
    "           from likes l\n",
    "           left join users u\n",
    "           on l.user_id=u.user_id\n",
    "           left join users us\n",
    "           on l.user_id_give=us.user_id\n",
    "           \n",
    "        \"\"\"\n",
    "all_rows = execute_query(query, fetch_result=True)\n",
    "for row, value in enumerate(all_rows):\n",
    "    print(row, value)"
   ]
  },
  {
   "cell_type": "code",
   "execution_count": 7,
   "id": "a921de2a",
   "metadata": {},
   "outputs": [
    {
     "name": "stdout",
     "output_type": "stream",
     "text": [
      "0 Record(from_name='Viktor', like_count=1)\n",
      "1 Record(from_name='Phill', like_count=1)\n",
      "2 Record(from_name='Ivan', like_count=1)\n",
      "3 Record(from_name='Mark', like_count=4)\n",
      "4 Record(from_name='Dima', like_count=2)\n"
     ]
    }
   ],
   "source": [
    "query = \"\"\" INSERT INTO users (user_id, created, name) \n",
    "            VALUES \n",
    "                 (10, to_timestamp('16-05-2021 15:36:38', 'dd-mm-yyyy hh24:mi:ss'), 'Mark')\n",
    " \n",
    "        \"\"\"\n",
    "\n",
    "execute_query(query)\n",
    "\n",
    "query = \"\"\" INSERT INTO likes (user_id, created, user_id_give) \n",
    "            VALUES \n",
    "                 (10, to_timestamp('16-05-2021 15:36:38', 'dd-mm-yyyy hh24:mi:ss'), 4)\n",
    "            \n",
    "        \"\"\"\n",
    "\n",
    "execute_query(query)\n",
    "\n",
    "query = \"\"\"select\n",
    "                --l.user_id as from_id,\n",
    "                u.name as from_name,\n",
    "                count(*) as like_count\n",
    "                \n",
    "           from likes l\n",
    "           left join users u\n",
    "           on l.user_id=u.user_id\n",
    "           group by u.name\n",
    "           \n",
    "        \"\"\"\n",
    "all_rows = execute_query(query, fetch_result=True)\n",
    "for row, value in enumerate(all_rows):\n",
    "    print(row, value)"
   ]
  },
  {
   "cell_type": "code",
   "execution_count": 8,
   "id": "52c08607",
   "metadata": {},
   "outputs": [
    {
     "name": "stdout",
     "output_type": "stream",
     "text": [
      "0 Record(to_id=4, to_name='Viktor', like_count=3)\n",
      "1 Record(to_id=1, to_name='Mark', like_count=1)\n",
      "2 Record(to_id=3, to_name='Phill', like_count=1)\n",
      "3 Record(to_id=2, to_name='Dima', like_count=1)\n",
      "4 Record(to_id=5, to_name='Ivan', like_count=3)\n"
     ]
    }
   ],
   "source": [
    "query = \"\"\"select\n",
    "                l.user_id_give as to_id,\n",
    "                u.name as to_name,\n",
    "                count(*) as like_count\n",
    "                \n",
    "           from likes l\n",
    "           left join users u\n",
    "           on l.user_id_give=u.user_id\n",
    "           group by l.user_id_give, u.name\n",
    "           \n",
    "        \"\"\"\n",
    "all_rows = execute_query(query, fetch_result=True)\n",
    "for row, value in enumerate(all_rows):\n",
    "    print(row, value)"
   ]
  },
  {
   "cell_type": "code",
   "execution_count": 9,
   "id": "b7513aee",
   "metadata": {},
   "outputs": [
    {
     "name": "stdout",
     "output_type": "stream",
     "text": [
      "0 Record(user_id=5, user_id_give=1, like_count=2)\n",
      "1 Record(user_id=4, user_id_give=2, like_count=1)\n",
      "2 Record(user_id=3, user_id_give=3, like_count=1)\n",
      "3 Record(user_id=2, user_id_give=4, like_count=1)\n",
      "4 Record(user_id=1, user_id_give=5, like_count=2)\n"
     ]
    }
   ],
   "source": [
    "query = \"\"\"select t1.user_id, t1.user_id_give,\n",
    "           count(*) as like_count\n",
    "                \n",
    "           from likes t1\n",
    "           inner join likes t2\n",
    "           on t1.user_id_give=t2.user_id\n",
    "           where t2.user_id_give=t1.user_id \n",
    "           group by t1.user_id_give, t1.user_id\n",
    "           \n",
    "        \"\"\"\n",
    "all_rows = execute_query(query, fetch_result=True)\n",
    "for row, value in enumerate(all_rows):\n",
    "    print(row, value)"
   ]
  },
  {
   "cell_type": "code",
   "execution_count": 10,
   "id": "3c2aa409",
   "metadata": {},
   "outputs": [
    {
     "name": "stdout",
     "output_type": "stream",
     "text": [
      "0 Record(to_id=5, to_name='Ivan', like_count=3)\n",
      "1 Record(to_id=4, to_name='Viktor', like_count=3)\n",
      "2 Record(to_id=3, to_name='Phill', like_count=1)\n",
      "3 Record(to_id=2, to_name='Dima', like_count=1)\n",
      "4 Record(to_id=1, to_name='Mark', like_count=1)\n"
     ]
    }
   ],
   "source": [
    "query = \"\"\"select\n",
    "                l.user_id_give as to_id,\n",
    "                u.name as to_name,\n",
    "                count(*) as like_count\n",
    "                \n",
    "           from likes l\n",
    "           left join users u\n",
    "           on l.user_id_give=u.user_id\n",
    "           group by l.user_id_give, u.name\n",
    "           order by l.user_id_give DESC\n",
    "           limit 5\n",
    "           \n",
    "        \"\"\"\n",
    "all_rows = execute_query(query, fetch_result=True)\n",
    "for row, value in enumerate(all_rows):\n",
    "    print(row, value) "
   ]
  },
  {
   "cell_type": "code",
   "execution_count": 11,
   "id": "cafcdff6",
   "metadata": {},
   "outputs": [
    {
     "name": "stdout",
     "output_type": "stream",
     "text": [
      "DROP TABLE IF EXISTS users;\n",
      "DROP TABLE IF EXISTS photos;\n",
      "DROP TABLE IF EXISTS comments;DROP TABLE IF EXISTS likes;\n",
      "CREATE TABLE users (\n",
      "                         user_id    INT       NOT NULL,\n",
      "                         name    TEXT       NOT NULL\n",
      "                );\n",
      "                \n",
      "CREATE TABLE photos (\n",
      "                         photo_id    INT       NOT NULL,\n",
      "                         photo_name    TEXT       NOT NULL,\n",
      "                         user_id    INT       NOT NULL\n",
      "                  );\n",
      "                \n",
      "CREATE TABLE comments (\n",
      "                         comment_id    INT       NOT NULL,\n",
      "                         author_id    INT       NOT NULL,\n",
      "                         comment_text    TEXT       NOT NULL,\n",
      "                         user_id    INT       NOT NULL,\n",
      "                         photo_id    INT       NOT NULL\n",
      "                );\n",
      "                \n",
      "CREATE TABLE likes (\n",
      "                         user_id    INT       NOT NULL,\n",
      "                         type       TEXT       NOT NULL,\n",
      "                         type_id    INT       NOT NULL,\n",
      "                         to_user_id     INT       NOT NULL    \n",
      "                         \n",
      "                );\n",
      "                \n"
     ]
    }
   ],
   "source": [
    "#Задание 2\n",
    "import psycopg2 as pg_driver\n",
    "\n",
    "db = pg_driver.connect(\n",
    "                        database=\"postgres\", \n",
    "                        user='postgres',\n",
    "                        password='123', \n",
    "                        host='localhost', \n",
    "                        port='5432'\n",
    "                    )\n",
    "\n",
    "\n",
    "\n",
    "def execute_queries(db, sql_commands):\n",
    "    db.autocommit = True\n",
    "    with db.cursor() as cursor:\n",
    "        for sql_command in sql_commands:\n",
    "            print(sql_command)\n",
    "            cursor.execute(sql_command)\n",
    "\n",
    "\n",
    "sql_commands = [\"DROP TABLE IF EXISTS users;\",\n",
    "                \"DROP TABLE IF EXISTS photos;\",\n",
    "                \"DROP TABLE IF EXISTS comments;\"\n",
    "                \"DROP TABLE IF EXISTS likes;\",\n",
    "                \"\"\"CREATE TABLE users (\n",
    "                         user_id    INT       NOT NULL,\n",
    "                         name    TEXT       NOT NULL\n",
    "                );\n",
    "                \"\"\",\n",
    "                \"\"\"CREATE TABLE photos (\n",
    "                         photo_id    INT       NOT NULL,\n",
    "                         photo_name    TEXT       NOT NULL,\n",
    "                         user_id    INT       NOT NULL\n",
    "                  );\n",
    "                \"\"\",\n",
    "               \"\"\"CREATE TABLE comments (\n",
    "                         comment_id    INT       NOT NULL,\n",
    "                         author_id    INT       NOT NULL,\n",
    "                         comment_text    TEXT       NOT NULL,\n",
    "                         user_id    INT       NOT NULL,\n",
    "                         photo_id    INT       NOT NULL\n",
    "                );\n",
    "                \"\"\",\n",
    "               \"\"\"CREATE TABLE likes (\n",
    "                         user_id    INT       NOT NULL,\n",
    "                         type       TEXT       NOT NULL,\n",
    "                         type_id    INT       NOT NULL,\n",
    "                         to_user_id     INT       NOT NULL    \n",
    "                         \n",
    "                );\n",
    "                \"\"\"]\n",
    "                \n",
    "\n",
    "execute_queries(db, sql_commands)"
   ]
  },
  {
   "cell_type": "code",
   "execution_count": 12,
   "id": "9776d103",
   "metadata": {},
   "outputs": [],
   "source": [
    "import psycopg2\n",
    "from psycopg2 import Error\n",
    "from psycopg2.extras import NamedTupleCursor\n",
    "\n",
    "def execute_query(query, fetch_result=False):\n",
    "    try:\n",
    "        connection = psycopg2.connect(\n",
    "                                database=\"postgres\", \n",
    "                                user='postgres',\n",
    "                                password='123', \n",
    "                                host='localhost', \n",
    "                                port='5432'\n",
    "                     )\n",
    "        connection.autocommit = True\n",
    "        cursor = connection.cursor(cursor_factory=NamedTupleCursor)\n",
    "        cursor.execute(query)\n",
    "        if fetch_result:\n",
    "            return cursor.fetchall()\n",
    "    except (Exception, Error) as error:\n",
    "        print(\"Error while connecting to PostgreSQL\", error)\n",
    "    finally:\n",
    "        if (connection):\n",
    "            cursor.close()\n",
    "            connection.close()"
   ]
  },
  {
   "cell_type": "code",
   "execution_count": 13,
   "id": "76893a22",
   "metadata": {},
   "outputs": [
    {
     "name": "stdout",
     "output_type": "stream",
     "text": [
      "[Record(count=0)]\n",
      "[Record(count=0)]\n"
     ]
    }
   ],
   "source": [
    "import psycopg2\n",
    "from psycopg2 import Error\n",
    "from psycopg2.extras import NamedTupleCursor\n",
    "\n",
    "def execute_query(query, fetch_result=False):\n",
    "    try:\n",
    "        connection = pg_driver.connect(\n",
    "                        database=\"postgres\", \n",
    "                        user='postgres',\n",
    "                        password='123', \n",
    "                        host='localhost', \n",
    "                        port='5432'\n",
    "                    );\n",
    "        \n",
    "        connection.autocommit = True\n",
    "        cursor = connection.cursor(cursor_factory=NamedTupleCursor)\n",
    "        cursor.execute(query)\n",
    "        if fetch_result:\n",
    "            return cursor.fetchall()\n",
    "    except (Exception, Error) as error:\n",
    "        print(\"Error while connecting to PostgreSQL\", error)\n",
    "    finally:\n",
    "        if (connection):\n",
    "            cursor.close()\n",
    "            connection.close()\n",
    "row_count_hist = execute_query(\"select count(*) from users\", fetch_result=True)\n",
    "row_count_payment = execute_query(\"select count(*) from likes\", fetch_result=True)\n",
    "\n",
    "print(row_count_hist)\n",
    "print(row_count_payment)"
   ]
  },
  {
   "cell_type": "code",
   "execution_count": 14,
   "id": "14411b07",
   "metadata": {},
   "outputs": [],
   "source": [
    "query = \"\"\" INSERT INTO users (user_id, name) \n",
    "            VALUES \n",
    "                 (1, 'Elena'),\n",
    "                 (2, 'Dina'),\n",
    "                 (3, 'Mona'),\n",
    "                 (4, 'Anastasia'),\n",
    "                 (5, 'Bob'),\n",
    "                 (6, 'Lisa'),\n",
    "                 (7, 'Jake')\n",
    "                 \n",
    "            \n",
    "        \"\"\"\n",
    "\n",
    "execute_query(query)\n",
    "\n",
    "query = \"\"\" INSERT INTO photos (photo_id, photo_name, user_id ) \n",
    "            VALUES \n",
    "                 (1, 'Waterfall', 4),\n",
    "                 (2, 'Sea', 7),\n",
    "                 (3, 'Dog', 3),\n",
    "                 (4, 'Breakfast', 7),\n",
    "                 (5, 'Mother', 2),\n",
    "                 (6, 'Love', 1),\n",
    "                 (7, 'Home', 4)\n",
    "                 \n",
    "        \"\"\"    \n",
    "\n",
    "execute_query(query)\n",
    "\n",
    "query = \"\"\" INSERT INTO comments (comment_id, author_id, comment_text, user_id, photo_id ) \n",
    "            VALUES \n",
    "                 (1, 2, 'WOW', 7, 2),\n",
    "                 (2, 5, 'Delicious', 7, 4),\n",
    "                 (3, 3, 'Miss you', 1, 6),\n",
    "                 (4, 6, 'Cool', 4, 1)\n",
    "                 \n",
    "            \n",
    "        \"\"\"\n",
    "\n",
    "execute_query(query)\n",
    "\n",
    "query = \"\"\" INSERT INTO likes (user_id, type, type_id, to_user_id) \n",
    "            VALUES \n",
    "                 (1, 'photo', 4, 7),\n",
    "                 (2, 'user', 6, 6),\n",
    "                 (3, 'comment', 2, 5),\n",
    "                 (4, 'user', 1, 1),\n",
    "                 (5, 'photo', 6, 1)\n",
    "            \n",
    "        \"\"\"\n",
    "\n",
    "execute_query(query)"
   ]
  },
  {
   "cell_type": "code",
   "execution_count": 15,
   "id": "77e2bd05",
   "metadata": {},
   "outputs": [
    {
     "name": "stdout",
     "output_type": "stream",
     "text": [
      "0 Record(user_id=1, name='Elena')\n",
      "1 Record(user_id=2, name='Dina')\n",
      "2 Record(user_id=3, name='Mona')\n",
      "3 Record(user_id=4, name='Anastasia')\n",
      "4 Record(user_id=5, name='Bob')\n",
      "5 Record(user_id=6, name='Lisa')\n",
      "6 Record(user_id=7, name='Jake')\n"
     ]
    }
   ],
   "source": [
    " all_rows = execute_query(\"select * from users\", fetch_result=True)\n",
    "for row, value in enumerate(all_rows):\n",
    "    print(row, value)"
   ]
  },
  {
   "cell_type": "code",
   "execution_count": 16,
   "id": "e89a67ae",
   "metadata": {},
   "outputs": [
    {
     "name": "stdout",
     "output_type": "stream",
     "text": [
      "0 Record(name='Anastasia', photo_count=2)\n",
      "1 Record(name='Lisa', photo_count=1)\n",
      "2 Record(name='Dina', photo_count=1)\n",
      "3 Record(name='Jake', photo_count=2)\n",
      "4 Record(name='Mona', photo_count=1)\n",
      "5 Record(name='Bob', photo_count=1)\n",
      "6 Record(name='Elena', photo_count=1)\n"
     ]
    }
   ],
   "source": [
    "query = \"\"\"select\n",
    "                u.name,\n",
    "                --p.photo_name,\n",
    "                count(*) as photo_count\n",
    "                \n",
    "           from users u\n",
    "           left join photos p\n",
    "           on u.user_id=p.user_id\n",
    "           group by u.name\n",
    "           \n",
    "        \"\"\"\n",
    "all_rows = execute_query(query, fetch_result=True)\n",
    "for row, value in enumerate(all_rows):\n",
    "    print(row, value)"
   ]
  },
  {
   "cell_type": "code",
   "execution_count": 17,
   "id": "3b9a36d4",
   "metadata": {},
   "outputs": [
    {
     "name": "stdout",
     "output_type": "stream",
     "text": [
      "0 Record(user_id=3, name='Mona', like_count=1)\n",
      "1 Record(user_id=4, name='Anastasia', like_count=1)\n",
      "2 Record(user_id=5, name='Bob', like_count=1)\n",
      "3 Record(user_id=2, name='Dina', like_count=1)\n",
      "4 Record(user_id=1, name='Elena', like_count=1)\n"
     ]
    }
   ],
   "source": [
    "query = \"\"\"select\n",
    "                l.user_id,\n",
    "                u.name,\n",
    "                count(*) as like_count\n",
    "                \n",
    "           from likes l\n",
    "           left join users u\n",
    "           on l.user_id=u.user_id\n",
    "           group by l.user_id, u.name\n",
    "           \n",
    "        \"\"\"\n",
    "all_rows = execute_query(query, fetch_result=True)\n",
    "for row, value in enumerate(all_rows):\n",
    "    print(row, value)"
   ]
  },
  {
   "cell_type": "code",
   "execution_count": 18,
   "id": "bb50f98c",
   "metadata": {},
   "outputs": [
    {
     "name": "stdout",
     "output_type": "stream",
     "text": [
      "0 Record(to_user_id=6, name='Lisa', like_count=1)\n",
      "1 Record(to_user_id=5, name='Bob', like_count=1)\n",
      "2 Record(to_user_id=7, name='Jake', like_count=1)\n",
      "3 Record(to_user_id=1, name='Elena', like_count=2)\n"
     ]
    }
   ],
   "source": [
    "query = \"\"\"select\n",
    "                l.to_user_id,\n",
    "                u.name,\n",
    "                count(*) as like_count\n",
    "                \n",
    "           from likes l\n",
    "           left join users u\n",
    "           on l.to_user_id=u.user_id\n",
    "           group by l.to_user_id, u.name\n",
    "           \n",
    "        \"\"\"\n",
    "all_rows = execute_query(query, fetch_result=True)\n",
    "for row, value in enumerate(all_rows):\n",
    "    print(row, value)"
   ]
  }
 ],
 "metadata": {
  "kernelspec": {
   "display_name": "Python 3 (ipykernel)",
   "language": "python",
   "name": "python3"
  },
  "language_info": {
   "codemirror_mode": {
    "name": "ipython",
    "version": 3
   },
   "file_extension": ".py",
   "mimetype": "text/x-python",
   "name": "python",
   "nbconvert_exporter": "python",
   "pygments_lexer": "ipython3",
   "version": "3.9.7"
  }
 },
 "nbformat": 4,
 "nbformat_minor": 5
}
